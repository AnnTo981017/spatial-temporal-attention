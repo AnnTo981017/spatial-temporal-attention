{
 "cells": [
  {
   "cell_type": "code",
   "execution_count": 14,
   "metadata": {},
   "outputs": [],
   "source": [
    "import torchvision.models as models\n",
    "import torch\n",
    "import torch.nn as nn"
   ]
  },
  {
   "cell_type": "code",
   "execution_count": null,
   "metadata": {},
   "outputs": [],
   "source": [
    "LABELS = ['brush_hair',\n",
    " 'cartwheel',\n",
    " 'catch',\n",
    " 'chew',\n",
    " 'clap',\n",
    " 'climb',\n",
    " 'climb_stairs',\n",
    " 'dive',\n",
    " 'draw_sword',\n",
    " 'dribble',\n",
    " 'drink',\n",
    " 'eat',\n",
    " 'fall_floor',\n",
    " 'fencing',\n",
    " 'flic_flac',\n",
    " 'golf',\n",
    " 'handstand',\n",
    " 'hit',\n",
    " 'hug',\n",
    " 'jump',\n",
    " 'kick',\n",
    " 'kick_ball',\n",
    " 'kiss',\n",
    " 'laugh',\n",
    " 'pick',\n",
    " 'pour',\n",
    " 'pullup',\n",
    " 'punch',\n",
    " 'push',\n",
    " 'pushup',\n",
    " 'ride_bike',\n",
    " 'ride_horse',\n",
    " 'run',\n",
    " 'shake_hands',\n",
    " 'shoot_ball',\n",
    " 'shoot_bow',\n",
    " 'shoot_gun',\n",
    " 'sit',\n",
    " 'situp',\n",
    " 'smile',\n",
    " 'smoke',\n",
    " 'somersault',\n",
    " 'stand',\n",
    " 'swing_baseball',\n",
    " 'sword',\n",
    " 'sword_exercise',\n",
    " 'talk',\n",
    " 'throw',\n",
    " 'turn',\n",
    " 'walk',\n",
    " 'wave']"
   ]
  },
  {
   "cell_type": "code",
   "execution_count": 2,
   "metadata": {},
   "outputs": [],
   "source": [
    "vgg19 = models.vgg19(pretrained = True)"
   ]
  },
  {
   "cell_type": "code",
   "execution_count": 18,
   "metadata": {},
   "outputs": [],
   "source": [
    "vgg19.eval()\n",
    "# only get the conv layers and eliminate last max pooling to get 14 x 14 result\n",
    "extractor = nn.Sequential(*list(vgg19.features.children()))[:-1] "
   ]
  },
  {
   "cell_type": "code",
   "execution_count": null,
   "metadata": {},
   "outputs": [],
   "source": [
    "# input: one video at a time, size: frame x 3 x 224 x224"
   ]
  },
  {
   "cell_type": "code",
   "execution_count": 40,
   "metadata": {},
   "outputs": [
    {
     "data": {
      "text/plain": [
       "torch.Size([1, 512, 196])"
      ]
     },
     "execution_count": 40,
     "metadata": {},
     "output_type": "execute_result"
    }
   ],
   "source": [
    "x = extractor(torch.rand(1,3,224,224))\n",
    "x = x.view(x.size()[0], x.size()[1], -1)\n",
    "x.size()"
   ]
  },
  {
   "cell_type": "code",
   "execution_count": null,
   "metadata": {},
   "outputs": [],
   "source": []
  }
 ],
 "metadata": {
  "kernelspec": {
   "display_name": "Python 3",
   "language": "python",
   "name": "python3"
  },
  "language_info": {
   "codemirror_mode": {
    "name": "ipython",
    "version": 3
   },
   "file_extension": ".py",
   "mimetype": "text/x-python",
   "name": "python",
   "nbconvert_exporter": "python",
   "pygments_lexer": "ipython3",
   "version": "3.6.4"
  }
 },
 "nbformat": 4,
 "nbformat_minor": 2
}
